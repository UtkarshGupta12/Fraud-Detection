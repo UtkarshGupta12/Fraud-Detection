{
  "nbformat": 4,
  "nbformat_minor": 0,
  "metadata": {
    "colab": {
      "name": "FraudDetection.ipynb",
      "version": "0.3.2",
      "provenance": [],
      "collapsed_sections": [],
      "include_colab_link": true
    },
    "kernelspec": {
      "name": "python3",
      "display_name": "Python 3"
    }
  },
  "cells": [
    {
      "cell_type": "markdown",
      "metadata": {
        "id": "view-in-github",
        "colab_type": "text"
      },
      "source": [
        "<a href=\"https://colab.research.google.com/github/UtkarshGupta12/Fraud-Detection/blob/master/FraudDetection.ipynb\" target=\"_parent\"><img src=\"https://colab.research.google.com/assets/colab-badge.svg\" alt=\"Open In Colab\"/></a>"
      ]
    },
    {
      "cell_type": "code",
      "metadata": {
        "id": "YsiS1LZbtlc2",
        "colab_type": "code",
        "colab": {}
      },
      "source": [
        "import numpy as np\n",
        "import pandas as pd\n",
        "import matplotlib.pyplot as plt"
      ],
      "execution_count": 0,
      "outputs": []
    },
    {
      "cell_type": "code",
      "metadata": {
        "id": "97Q_AQ_Ct_2y",
        "colab_type": "code",
        "colab": {}
      },
      "source": [
        "df = pd.read_csv('https://raw.githubusercontent.com/UtkarshGupta12/Fraud-Detection/master/Credit_Card_Applications.csv')"
      ],
      "execution_count": 0,
      "outputs": []
    },
    {
      "cell_type": "code",
      "metadata": {
        "id": "lpF6NzMPvJin",
        "colab_type": "code",
        "outputId": "d2c64ae1-97e7-4677-bb28-67d2c402a913",
        "colab": {
          "base_uri": "https://localhost:8080/",
          "height": 215
        }
      },
      "source": [
        "df.head()"
      ],
      "execution_count": 125,
      "outputs": [
        {
          "output_type": "execute_result",
          "data": {
            "text/html": [
              "<div>\n",
              "<style scoped>\n",
              "    .dataframe tbody tr th:only-of-type {\n",
              "        vertical-align: middle;\n",
              "    }\n",
              "\n",
              "    .dataframe tbody tr th {\n",
              "        vertical-align: top;\n",
              "    }\n",
              "\n",
              "    .dataframe thead th {\n",
              "        text-align: right;\n",
              "    }\n",
              "</style>\n",
              "<table border=\"1\" class=\"dataframe\">\n",
              "  <thead>\n",
              "    <tr style=\"text-align: right;\">\n",
              "      <th></th>\n",
              "      <th>CustomerID</th>\n",
              "      <th>A1</th>\n",
              "      <th>A2</th>\n",
              "      <th>A3</th>\n",
              "      <th>A4</th>\n",
              "      <th>A5</th>\n",
              "      <th>A6</th>\n",
              "      <th>A7</th>\n",
              "      <th>A8</th>\n",
              "      <th>A9</th>\n",
              "      <th>A10</th>\n",
              "      <th>A11</th>\n",
              "      <th>A12</th>\n",
              "      <th>A13</th>\n",
              "      <th>A14</th>\n",
              "      <th>Class</th>\n",
              "    </tr>\n",
              "  </thead>\n",
              "  <tbody>\n",
              "    <tr>\n",
              "      <th>0</th>\n",
              "      <td>15776156</td>\n",
              "      <td>1</td>\n",
              "      <td>22.08</td>\n",
              "      <td>11.46</td>\n",
              "      <td>2</td>\n",
              "      <td>4</td>\n",
              "      <td>4</td>\n",
              "      <td>1.585</td>\n",
              "      <td>0</td>\n",
              "      <td>0</td>\n",
              "      <td>0</td>\n",
              "      <td>1</td>\n",
              "      <td>2</td>\n",
              "      <td>100</td>\n",
              "      <td>1213</td>\n",
              "      <td>0</td>\n",
              "    </tr>\n",
              "    <tr>\n",
              "      <th>1</th>\n",
              "      <td>15739548</td>\n",
              "      <td>0</td>\n",
              "      <td>22.67</td>\n",
              "      <td>7.00</td>\n",
              "      <td>2</td>\n",
              "      <td>8</td>\n",
              "      <td>4</td>\n",
              "      <td>0.165</td>\n",
              "      <td>0</td>\n",
              "      <td>0</td>\n",
              "      <td>0</td>\n",
              "      <td>0</td>\n",
              "      <td>2</td>\n",
              "      <td>160</td>\n",
              "      <td>1</td>\n",
              "      <td>0</td>\n",
              "    </tr>\n",
              "    <tr>\n",
              "      <th>2</th>\n",
              "      <td>15662854</td>\n",
              "      <td>0</td>\n",
              "      <td>29.58</td>\n",
              "      <td>1.75</td>\n",
              "      <td>1</td>\n",
              "      <td>4</td>\n",
              "      <td>4</td>\n",
              "      <td>1.250</td>\n",
              "      <td>0</td>\n",
              "      <td>0</td>\n",
              "      <td>0</td>\n",
              "      <td>1</td>\n",
              "      <td>2</td>\n",
              "      <td>280</td>\n",
              "      <td>1</td>\n",
              "      <td>0</td>\n",
              "    </tr>\n",
              "    <tr>\n",
              "      <th>3</th>\n",
              "      <td>15687688</td>\n",
              "      <td>0</td>\n",
              "      <td>21.67</td>\n",
              "      <td>11.50</td>\n",
              "      <td>1</td>\n",
              "      <td>5</td>\n",
              "      <td>3</td>\n",
              "      <td>0.000</td>\n",
              "      <td>1</td>\n",
              "      <td>1</td>\n",
              "      <td>11</td>\n",
              "      <td>1</td>\n",
              "      <td>2</td>\n",
              "      <td>0</td>\n",
              "      <td>1</td>\n",
              "      <td>1</td>\n",
              "    </tr>\n",
              "    <tr>\n",
              "      <th>4</th>\n",
              "      <td>15715750</td>\n",
              "      <td>1</td>\n",
              "      <td>20.17</td>\n",
              "      <td>8.17</td>\n",
              "      <td>2</td>\n",
              "      <td>6</td>\n",
              "      <td>4</td>\n",
              "      <td>1.960</td>\n",
              "      <td>1</td>\n",
              "      <td>1</td>\n",
              "      <td>14</td>\n",
              "      <td>0</td>\n",
              "      <td>2</td>\n",
              "      <td>60</td>\n",
              "      <td>159</td>\n",
              "      <td>1</td>\n",
              "    </tr>\n",
              "  </tbody>\n",
              "</table>\n",
              "</div>"
            ],
            "text/plain": [
              "   CustomerID  A1     A2     A3  A4  A5  ...  A10  A11  A12  A13   A14  Class\n",
              "0    15776156   1  22.08  11.46   2   4  ...    0    1    2  100  1213      0\n",
              "1    15739548   0  22.67   7.00   2   8  ...    0    0    2  160     1      0\n",
              "2    15662854   0  29.58   1.75   1   4  ...    0    1    2  280     1      0\n",
              "3    15687688   0  21.67  11.50   1   5  ...   11    1    2    0     1      1\n",
              "4    15715750   1  20.17   8.17   2   6  ...   14    0    2   60   159      1\n",
              "\n",
              "[5 rows x 16 columns]"
            ]
          },
          "metadata": {
            "tags": []
          },
          "execution_count": 125
        }
      ]
    },
    {
      "cell_type": "code",
      "metadata": {
        "id": "jY3zREEMvKcm",
        "colab_type": "code",
        "colab": {}
      },
      "source": [
        "X = df.iloc[:, :-1].values"
      ],
      "execution_count": 0,
      "outputs": []
    },
    {
      "cell_type": "code",
      "metadata": {
        "id": "q1bZXft_wSKB",
        "colab_type": "code",
        "colab": {}
      },
      "source": [
        "y = df.iloc[:,-1].values"
      ],
      "execution_count": 0,
      "outputs": []
    },
    {
      "cell_type": "code",
      "metadata": {
        "id": "27spPWb5wXUh",
        "colab_type": "code",
        "outputId": "1e95205d-ad8e-426d-e0dc-0f584ecaaf15",
        "colab": {
          "base_uri": "https://localhost:8080/",
          "height": 235
        }
      },
      "source": [
        "X"
      ],
      "execution_count": 128,
      "outputs": [
        {
          "output_type": "execute_result",
          "data": {
            "text/plain": [
              "array([[1.5776156e+07, 1.0000000e+00, 2.2080000e+01, ..., 2.0000000e+00,\n",
              "        1.0000000e+02, 1.2130000e+03],\n",
              "       [1.5739548e+07, 0.0000000e+00, 2.2670000e+01, ..., 2.0000000e+00,\n",
              "        1.6000000e+02, 1.0000000e+00],\n",
              "       [1.5662854e+07, 0.0000000e+00, 2.9580000e+01, ..., 2.0000000e+00,\n",
              "        2.8000000e+02, 1.0000000e+00],\n",
              "       ...,\n",
              "       [1.5675450e+07, 0.0000000e+00, 1.8830000e+01, ..., 2.0000000e+00,\n",
              "        1.0000000e+02, 1.0000000e+00],\n",
              "       [1.5776494e+07, 0.0000000e+00, 2.7420000e+01, ..., 2.0000000e+00,\n",
              "        1.2000000e+02, 1.2000000e+01],\n",
              "       [1.5592412e+07, 1.0000000e+00, 4.1000000e+01, ..., 1.0000000e+00,\n",
              "        5.6000000e+02, 1.0000000e+00]])"
            ]
          },
          "metadata": {
            "tags": []
          },
          "execution_count": 128
        }
      ]
    },
    {
      "cell_type": "code",
      "metadata": {
        "id": "KjYn-dRuwYwf",
        "colab_type": "code",
        "outputId": "98ed9ce0-4de3-4736-d480-275e189a79b7",
        "colab": {
          "base_uri": "https://localhost:8080/",
          "height": 554
        }
      },
      "source": [
        "y"
      ],
      "execution_count": 129,
      "outputs": [
        {
          "output_type": "execute_result",
          "data": {
            "text/plain": [
              "array([0, 0, 0, 1, 1, 1, 0, 1, 0, 0, 1, 1, 0, 1, 0, 1, 1, 1, 0, 1, 0, 0,\n",
              "       0, 0, 0, 1, 0, 1, 1, 1, 1, 0, 0, 1, 0, 0, 1, 1, 1, 1, 1, 0, 1, 0,\n",
              "       0, 1, 0, 1, 0, 1, 0, 0, 0, 0, 0, 1, 1, 0, 1, 1, 0, 0, 1, 0, 1, 1,\n",
              "       0, 0, 0, 1, 0, 0, 0, 1, 1, 0, 0, 0, 0, 1, 1, 0, 0, 0, 0, 1, 0, 1,\n",
              "       1, 0, 0, 0, 0, 1, 0, 1, 0, 0, 0, 1, 0, 1, 1, 1, 0, 1, 1, 0, 1, 0,\n",
              "       0, 0, 0, 1, 0, 1, 1, 1, 1, 1, 1, 0, 0, 1, 1, 0, 1, 0, 1, 1, 1, 0,\n",
              "       0, 0, 0, 0, 0, 1, 1, 1, 0, 0, 0, 1, 0, 1, 1, 0, 0, 1, 1, 0, 0, 0,\n",
              "       1, 1, 1, 0, 1, 0, 0, 0, 1, 1, 0, 0, 0, 1, 0, 0, 0, 1, 0, 0, 1, 0,\n",
              "       0, 0, 1, 1, 0, 0, 1, 1, 1, 0, 0, 0, 0, 0, 0, 1, 0, 0, 0, 1, 1, 0,\n",
              "       0, 0, 1, 0, 1, 0, 1, 1, 0, 0, 0, 0, 1, 1, 0, 0, 0, 1, 0, 0, 0, 1,\n",
              "       1, 0, 1, 0, 0, 0, 0, 1, 1, 1, 1, 0, 0, 1, 1, 1, 0, 0, 0, 1, 1, 1,\n",
              "       1, 0, 0, 0, 0, 1, 1, 1, 0, 0, 1, 0, 1, 1, 1, 1, 0, 0, 0, 1, 0, 1,\n",
              "       1, 0, 0, 1, 0, 0, 0, 1, 0, 1, 1, 0, 0, 0, 1, 1, 0, 0, 0, 0, 0, 1,\n",
              "       1, 1, 0, 0, 0, 0, 1, 1, 1, 0, 0, 0, 1, 0, 1, 0, 0, 0, 0, 1, 0, 1,\n",
              "       0, 0, 0, 0, 0, 1, 1, 0, 0, 1, 0, 1, 1, 1, 1, 1, 1, 1, 0, 0, 0, 0,\n",
              "       1, 1, 1, 0, 0, 0, 1, 0, 1, 0, 0, 0, 1, 1, 1, 1, 1, 1, 1, 0, 1, 0,\n",
              "       1, 0, 0, 0, 0, 0, 1, 0, 1, 1, 0, 0, 0, 0, 0, 1, 0, 1, 1, 0, 0, 0,\n",
              "       1, 1, 1, 0, 0, 1, 1, 0, 0, 0, 1, 1, 0, 1, 1, 1, 1, 0, 0, 1, 1, 0,\n",
              "       0, 0, 0, 0, 0, 1, 0, 0, 0, 1, 1, 0, 1, 0, 0, 0, 1, 1, 1, 0, 0, 1,\n",
              "       0, 1, 1, 1, 0, 1, 0, 0, 1, 0, 0, 0, 1, 0, 0, 1, 0, 1, 0, 1, 1, 0,\n",
              "       1, 0, 0, 1, 0, 1, 1, 0, 0, 0, 0, 0, 1, 1, 0, 0, 1, 1, 0, 1, 0, 1,\n",
              "       0, 1, 0, 1, 1, 0, 1, 0, 1, 1, 1, 0, 0, 0, 0, 0, 1, 0, 1, 0, 0, 0,\n",
              "       1, 1, 1, 1, 1, 0, 1, 1, 0, 0, 0, 1, 1, 1, 1, 1, 1, 0, 1, 1, 1, 1,\n",
              "       0, 0, 0, 0, 0, 0, 0, 1, 0, 0, 1, 1, 1, 0, 1, 0, 0, 1, 1, 0, 1, 0,\n",
              "       0, 0, 0, 0, 0, 1, 0, 1, 0, 1, 1, 1, 0, 0, 1, 0, 0, 0, 0, 0, 0, 0,\n",
              "       1, 1, 0, 0, 0, 0, 0, 1, 0, 1, 0, 1, 0, 0, 1, 1, 1, 0, 0, 0, 0, 0,\n",
              "       1, 0, 1, 1, 0, 0, 0, 0, 0, 1, 1, 1, 0, 1, 0, 1, 1, 0, 0, 1, 0, 1,\n",
              "       0, 0, 1, 1, 0, 1, 0, 1, 1, 1, 1, 0, 0, 1, 0, 1, 1, 0, 1, 0, 1, 1,\n",
              "       0, 0, 0, 1, 0, 1, 1, 0, 1, 0, 0, 0, 0, 0, 1, 0, 1, 0, 0, 0, 0, 0,\n",
              "       0, 1, 0, 1, 1, 0, 0, 0, 0, 0, 0, 1, 1, 0, 0, 1, 0, 0, 1, 0, 0, 1,\n",
              "       1, 0, 1, 1, 0, 0, 0, 0, 0, 0, 1, 1, 0, 1, 1, 0, 0, 0, 0, 1, 0, 0,\n",
              "       1, 0, 1, 1, 0, 1, 1, 1])"
            ]
          },
          "metadata": {
            "tags": []
          },
          "execution_count": 129
        }
      ]
    },
    {
      "cell_type": "code",
      "metadata": {
        "id": "U7DrRwuPwacg",
        "colab_type": "code",
        "colab": {}
      },
      "source": [
        "from sklearn.preprocessing import MinMaxScaler\n",
        "sc = MinMaxScaler(feature_range=(0,1))\n",
        "X = sc.fit_transform(X)"
      ],
      "execution_count": 0,
      "outputs": []
    },
    {
      "cell_type": "code",
      "metadata": {
        "id": "2ttuASauzRzz",
        "colab_type": "code",
        "outputId": "0fad9e51-e498-499d-ccb3-87f9e67819bf",
        "colab": {
          "base_uri": "https://localhost:8080/",
          "height": 54
        }
      },
      "source": [
        "!pip install minisom"
      ],
      "execution_count": 131,
      "outputs": [
        {
          "output_type": "stream",
          "text": [
            "Requirement already satisfied: minisom in /usr/local/lib/python3.6/dist-packages (2.1.8)\n"
          ],
          "name": "stdout"
        }
      ]
    },
    {
      "cell_type": "code",
      "metadata": {
        "id": "vFrqxM8MxJo_",
        "colab_type": "code",
        "colab": {}
      },
      "source": [
        "from minisom import MiniSom "
      ],
      "execution_count": 0,
      "outputs": []
    },
    {
      "cell_type": "code",
      "metadata": {
        "id": "abez1bFvzXcZ",
        "colab_type": "code",
        "colab": {}
      },
      "source": [
        "som = MiniSom(x = 10 , y = 10 , input_len = 15 , sigma = 1.0 ,learning_rate = 0.5 )"
      ],
      "execution_count": 0,
      "outputs": []
    },
    {
      "cell_type": "code",
      "metadata": {
        "id": "lqicyagx0JpZ",
        "colab_type": "code",
        "colab": {}
      },
      "source": [
        "som.random_weights_init(X)\n",
        "som.train_random(data = X , num_iteration = 100)"
      ],
      "execution_count": 0,
      "outputs": []
    },
    {
      "cell_type": "code",
      "metadata": {
        "id": "xg_xN_GD0uDz",
        "colab_type": "code",
        "colab": {}
      },
      "source": [
        "from pylab import bone , pcolor , colorbar , plot , show"
      ],
      "execution_count": 0,
      "outputs": []
    },
    {
      "cell_type": "code",
      "metadata": {
        "id": "E602tFH-Mtg_",
        "colab_type": "code",
        "colab": {
          "base_uri": "https://localhost:8080/",
          "height": 34
        },
        "outputId": "4b837fcd-4625-4f85-ccc0-9883e9246443"
      },
      "source": [
        "bone()"
      ],
      "execution_count": 136,
      "outputs": [
        {
          "output_type": "display_data",
          "data": {
            "text/plain": [
              "<Figure size 432x288 with 0 Axes>"
            ]
          },
          "metadata": {
            "tags": []
          }
        }
      ]
    },
    {
      "cell_type": "code",
      "metadata": {
        "id": "ZcjlbqG6M2JQ",
        "colab_type": "code",
        "colab": {
          "base_uri": "https://localhost:8080/",
          "height": 286
        },
        "outputId": "632a5d34-fbb8-4d1a-e413-2bb65d2a470e"
      },
      "source": [
        "bone()\n",
        "pcolor(som.distance_map().T)"
      ],
      "execution_count": 137,
      "outputs": [
        {
          "output_type": "execute_result",
          "data": {
            "text/plain": [
              "<matplotlib.collections.PolyCollection at 0x7f309193f7b8>"
            ]
          },
          "metadata": {
            "tags": []
          },
          "execution_count": 137
        },
        {
          "output_type": "display_data",
          "data": {
            "image/png": "[encoded data removed]",
            "text/plain": [
              "<Figure size 432x288 with 1 Axes>"
            ]
          },
          "metadata": {
            "tags": []
          }
        }
      ]
    },
    {
      "cell_type": "code",
      "metadata": {
        "id": "7G-VFlByNKFC",
        "colab_type": "code",
        "colab": {
          "base_uri": "https://localhost:8080/",
          "height": 286
        },
        "outputId": "24e2e4f0-8c23-4f31-fca9-d828045ba744"
      },
      "source": [
        "bone()\n",
        "pcolor(som.distance_map().T)\n",
        "colorbar()"
      ],
      "execution_count": 138,
      "outputs": [
        {
          "output_type": "execute_result",
          "data": {
            "text/plain": [
              "<matplotlib.colorbar.Colorbar at 0x7f30918ec668>"
            ]
          },
          "metadata": {
            "tags": []
          },
          "execution_count": 138
        },
        {
          "output_type": "display_data",
          "data": {
            "image/png": "[encoded data removed]",
            "text/plain": [
              "<Figure size 432x288 with 2 Axes>"
            ]
          },
          "metadata": {
            "tags": []
          }
        }
      ]
    },
    {
      "cell_type": "code",
      "metadata": {
        "id": "3Go_vkEdNbHf",
        "colab_type": "code",
        "colab": {
          "base_uri": "https://localhost:8080/",
          "height": 269
        },
        "outputId": "36f9c047-d766-4988-9556-4fe3998d594a"
      },
      "source": [
        "bone()\n",
        "pcolor(som.distance_map().T)\n",
        "colorbar()\n",
        "markers = ['o','s']\n",
        "colors = ['r','g']\n",
        "for i,x in enumerate(X):\n",
        "  w = som.winner(x)\n",
        "  plot(w[0] + 0.5,\n",
        "       w[1] + 0.5,\n",
        "       markers[y[i]],\n",
        "       markeredgecolor = colors[y[i]],\n",
        "       markerfacecolor = 'None',\n",
        "       markersize = 10,\n",
        "       markeredgewidth = 2)\n",
        "show()"
      ],
      "execution_count": 139,
      "outputs": [
        {
          "output_type": "display_data",
          "data": {
            "image/png": "[encoded data removed]",
            "text/plain": [
              "<Figure size 432x288 with 2 Axes>"
            ]
          },
          "metadata": {
            "tags": []
          }
        }
      ]
    },
    {
      "cell_type": "code",
      "metadata": {
        "id": "rWhrAPjtPKfb",
        "colab_type": "code",
        "colab": {}
      },
      "source": [
        "mappings = som.win_map(X)"
      ],
      "execution_count": 0,
      "outputs": []
    },
    {
      "cell_type": "code",
      "metadata": {
        "id": "12uPo4FLQA6D",
        "colab_type": "code",
        "colab": {}
      },
      "source": [
        "frauds = mappings[(8,1)]"
      ],
      "execution_count": 0,
      "outputs": []
    },
    {
      "cell_type": "code",
      "metadata": {
        "id": "lf-PSzSKTC-u",
        "colab_type": "code",
        "colab": {
          "base_uri": "https://localhost:8080/",
          "height": 958
        },
        "outputId": "288e0cad-b0ac-4ae9-c97a-1900ddb588ef"
      },
      "source": [
        "frauds"
      ],
      "execution_count": 145,
      "outputs": [
        {
          "output_type": "execute_result",
          "data": {
            "text/plain": [
              "[array([0.88304923, 0.        , 0.08150376, 0.02089286, 0.        ,\n",
              "        0.38461538, 0.375     , 0.02052632, 1.        , 0.        ,\n",
              "        0.        , 1.        , 0.5       , 0.08      , 0.        ]),\n",
              " array([0.0989873 , 0.        , 0.16917293, 0.03125   , 0.5       ,\n",
              "        1.        , 0.875     , 0.03649123, 1.        , 0.        ,\n",
              "        0.        , 1.        , 0.5       , 0.08      , 0.0586    ]),\n",
              " array([0.80745128, 0.        , 0.54255639, 0.48517857, 0.5       ,\n",
              "        0.23076923, 0.875     , 0.29824561, 1.        , 0.        ,\n",
              "        0.        , 1.        , 0.5       , 0.        , 0.        ]),\n",
              " array([0.00850922, 0.        , 0.22300752, 0.12642857, 0.5       ,\n",
              "        0.15384615, 0.5       , 0.01754386, 1.        , 0.        ,\n",
              "        0.        , 1.        , 0.5       , 0.0855    , 0.        ]),\n",
              " array([4.21657076e-01, 0.00000000e+00, 1.74135338e-01, 7.44642857e-02,\n",
              "        5.00000000e-01, 5.38461538e-01, 8.75000000e-01, 9.64912281e-02,\n",
              "        1.00000000e+00, 0.00000000e+00, 0.00000000e+00, 1.00000000e+00,\n",
              "        5.00000000e-01, 1.80000000e-01, 1.00000000e-05]),\n",
              " array([0.30682059, 0.        , 0.65157895, 0.01196429, 0.5       ,\n",
              "        0.15384615, 0.5       , 0.03508772, 1.        , 0.        ,\n",
              "        0.        , 1.        , 0.5       , 0.126     , 0.02197   ]),\n",
              " array([6.99850638e-01, 0.00000000e+00, 5.30075188e-01, 5.35714286e-02,\n",
              "        5.00000000e-01, 3.07692308e-01, 2.50000000e-01, 0.00000000e+00,\n",
              "        1.00000000e+00, 0.00000000e+00, 0.00000000e+00, 1.00000000e+00,\n",
              "        5.00000000e-01, 5.00000000e-02, 2.70000000e-04]),\n",
              " array([0.11064394, 0.        , 0.37338346, 0.17857143, 0.5       ,\n",
              "        0.92307692, 0.375     , 0.47368421, 1.        , 0.        ,\n",
              "        0.        , 1.        , 0.5       , 0.49      , 0.        ]),\n",
              " array([0.98517994, 0.        , 0.34586466, 0.18303571, 0.5       ,\n",
              "        0.69230769, 0.375     , 0.1754386 , 1.        , 0.        ,\n",
              "        0.        , 1.        , 0.5       , 0.        , 0.04      ]),\n",
              " array([0.54802206, 0.        , 0.13157895, 0.39285714, 0.        ,\n",
              "        0.76923077, 0.375     , 0.10526316, 1.        , 0.        ,\n",
              "        0.        , 1.        , 0.5       , 0.134     , 0.        ]),\n",
              " array([0.22572068, 0.        , 0.05759398, 0.32142857, 0.5       ,\n",
              "        0.38461538, 0.375     , 0.04824561, 1.        , 0.        ,\n",
              "        0.        , 1.        , 0.5       , 0.        , 0.        ]),\n",
              " array([0.32225332, 0.        , 0.70421053, 0.58928571, 0.5       ,\n",
              "        0.76923077, 0.375     , 0.38596491, 1.        , 0.        ,\n",
              "        0.        , 1.        , 0.5       , 0.0105    , 0.10561   ]),\n",
              " array([0.60142394, 0.        , 0.26796992, 0.125     , 0.5       ,\n",
              "        0.07692308, 0.375     , 0.10526316, 1.        , 0.        ,\n",
              "        0.        , 1.        , 0.5       , 0.15      , 0.        ]),\n",
              " array([0.81139155, 0.        , 0.41473684, 0.03571429, 0.5       ,\n",
              "        0.15384615, 0.5       , 0.07894737, 1.        , 0.        ,\n",
              "        0.        , 1.        , 0.5       , 0.        , 0.003     ]),\n",
              " array([0.73206556, 0.        , 0.36842105, 0.21428571, 0.5       ,\n",
              "        0.23076923, 0.375     , 0.03508772, 1.        , 0.        ,\n",
              "        0.        , 1.        , 0.5       , 0.        , 0.        ]),\n",
              " array([0.49645015, 0.        , 0.22300752, 0.05946429, 0.5       ,\n",
              "        0.76923077, 0.375     , 0.08473684, 1.        , 0.        ,\n",
              "        0.        , 1.        , 0.5       , 0.22      , 0.        ]),\n",
              " array([0.42703491, 0.        , 0.36090226, 0.19642857, 0.5       ,\n",
              "        0.76923077, 0.375     , 0.00438596, 1.        , 0.        ,\n",
              "        0.        , 1.        , 0.5       , 0.114     , 0.        ]),\n",
              " array([0.89264763, 0.        , 0.18045113, 0.01785714, 0.5       ,\n",
              "        0.53846154, 0.875     , 0.03070175, 1.        , 0.        ,\n",
              "        0.        , 1.        , 0.5       , 0.2455    , 0.        ])]"
            ]
          },
          "metadata": {
            "tags": []
          },
          "execution_count": 145
        }
      ]
    },
    {
      "cell_type": "code",
      "metadata": {
        "id": "3-kSaGbEQn4V",
        "colab_type": "code",
        "colab": {}
      },
      "source": [
        "frauds = sc.inverse_transform(frauds)"
      ],
      "execution_count": 0,
      "outputs": []
    },
    {
      "cell_type": "code",
      "metadata": {
        "id": "kWV0tmBbTO0h",
        "colab_type": "code",
        "colab": {
          "base_uri": "https://localhost:8080/",
          "height": 1000
        },
        "outputId": "89fe5402-5bdf-4b2a-e472-97a6d88c9685"
      },
      "source": [
        "frauds"
      ],
      "execution_count": 147,
      "outputs": [
        {
          "output_type": "execute_result",
          "data": {
            "text/plain": [
              "array([[1.5786237e+07, 0.0000000e+00, 1.9170000e+01, 5.8500000e-01,\n",
              "        1.0000000e+00, 6.0000000e+00, 4.0000000e+00, 5.8500000e-01,\n",
              "        1.0000000e+00, 0.0000000e+00, 0.0000000e+00, 1.0000000e+00,\n",
              "        2.0000000e+00, 1.6000000e+02, 1.0000000e+00],\n",
              "       [1.5590434e+07, 0.0000000e+00, 2.5000000e+01, 8.7500000e-01,\n",
              "        2.0000000e+00, 1.4000000e+01, 8.0000000e+00, 1.0400000e+00,\n",
              "        1.0000000e+00, 0.0000000e+00, 0.0000000e+00, 1.0000000e+00,\n",
              "        2.0000000e+00, 1.6000000e+02, 5.8610000e+03],\n",
              "       [1.5767358e+07, 0.0000000e+00, 4.9830000e+01, 1.3585000e+01,\n",
              "        2.0000000e+00, 4.0000000e+00, 8.0000000e+00, 8.5000000e+00,\n",
              "        1.0000000e+00, 0.0000000e+00, 0.0000000e+00, 1.0000000e+00,\n",
              "        2.0000000e+00, 0.0000000e+00, 1.0000000e+00],\n",
              "       [1.5567839e+07, 0.0000000e+00, 2.8580000e+01, 3.5400000e+00,\n",
              "        2.0000000e+00, 3.0000000e+00, 5.0000000e+00, 5.0000000e-01,\n",
              "        1.0000000e+00, 0.0000000e+00, 0.0000000e+00, 1.0000000e+00,\n",
              "        2.0000000e+00, 1.7100000e+02, 1.0000000e+00],\n",
              "       [1.5671014e+07, 0.0000000e+00, 2.5330000e+01, 2.0850000e+00,\n",
              "        2.0000000e+00, 8.0000000e+00, 8.0000000e+00, 2.7500000e+00,\n",
              "        1.0000000e+00, 0.0000000e+00, 0.0000000e+00, 1.0000000e+00,\n",
              "        2.0000000e+00, 3.6000000e+02, 2.0000000e+00],\n",
              "       [1.5642336e+07, 0.0000000e+00, 5.7080000e+01, 3.3500000e-01,\n",
              "        2.0000000e+00, 3.0000000e+00, 5.0000000e+00, 1.0000000e+00,\n",
              "        1.0000000e+00, 0.0000000e+00, 0.0000000e+00, 1.0000000e+00,\n",
              "        2.0000000e+00, 2.5200000e+02, 2.1980000e+03],\n",
              "       [1.5740487e+07, 0.0000000e+00, 4.9000000e+01, 1.5000000e+00,\n",
              "        2.0000000e+00, 5.0000000e+00, 3.0000000e+00, 0.0000000e+00,\n",
              "        1.0000000e+00, 0.0000000e+00, 0.0000000e+00, 1.0000000e+00,\n",
              "        2.0000000e+00, 1.0000000e+02, 2.8000000e+01],\n",
              "       [1.5593345e+07, 0.0000000e+00, 3.8580000e+01, 5.0000000e+00,\n",
              "        2.0000000e+00, 1.3000000e+01, 4.0000000e+00, 1.3500000e+01,\n",
              "        1.0000000e+00, 0.0000000e+00, 0.0000000e+00, 1.0000000e+00,\n",
              "        2.0000000e+00, 9.8000000e+02, 1.0000000e+00],\n",
              "       [1.5811742e+07, 0.0000000e+00, 3.6750000e+01, 5.1250000e+00,\n",
              "        2.0000000e+00, 1.0000000e+01, 4.0000000e+00, 5.0000000e+00,\n",
              "        1.0000000e+00, 0.0000000e+00, 0.0000000e+00, 1.0000000e+00,\n",
              "        2.0000000e+00, 0.0000000e+00, 4.0010000e+03],\n",
              "       [1.5702571e+07, 0.0000000e+00, 2.2500000e+01, 1.1000000e+01,\n",
              "        1.0000000e+00, 1.1000000e+01, 4.0000000e+00, 3.0000000e+00,\n",
              "        1.0000000e+00, 0.0000000e+00, 0.0000000e+00, 1.0000000e+00,\n",
              "        2.0000000e+00, 2.6800000e+02, 1.0000000e+00],\n",
              "       [1.5622083e+07, 0.0000000e+00, 1.7580000e+01, 9.0000000e+00,\n",
              "        2.0000000e+00, 6.0000000e+00, 4.0000000e+00, 1.3750000e+00,\n",
              "        1.0000000e+00, 0.0000000e+00, 0.0000000e+00, 1.0000000e+00,\n",
              "        2.0000000e+00, 0.0000000e+00, 1.0000000e+00],\n",
              "       [1.5646190e+07, 0.0000000e+00, 6.0580000e+01, 1.6500000e+01,\n",
              "        2.0000000e+00, 1.1000000e+01, 4.0000000e+00, 1.1000000e+01,\n",
              "        1.0000000e+00, 0.0000000e+00, 0.0000000e+00, 1.0000000e+00,\n",
              "        2.0000000e+00, 2.1000000e+01, 1.0562000e+04],\n",
              "       [1.5715907e+07, 0.0000000e+00, 3.1570000e+01, 3.5000000e+00,\n",
              "        2.0000000e+00, 2.0000000e+00, 4.0000000e+00, 3.0000000e+00,\n",
              "        1.0000000e+00, 0.0000000e+00, 0.0000000e+00, 1.0000000e+00,\n",
              "        2.0000000e+00, 3.0000000e+02, 1.0000000e+00],\n",
              "       [1.5768342e+07, 0.0000000e+00, 4.1330000e+01, 1.0000000e+00,\n",
              "        2.0000000e+00, 3.0000000e+00, 5.0000000e+00, 2.2500000e+00,\n",
              "        1.0000000e+00, 0.0000000e+00, 0.0000000e+00, 1.0000000e+00,\n",
              "        2.0000000e+00, 0.0000000e+00, 3.0100000e+02],\n",
              "       [1.5748532e+07, 0.0000000e+00, 3.8250000e+01, 6.0000000e+00,\n",
              "        2.0000000e+00, 4.0000000e+00, 4.0000000e+00, 1.0000000e+00,\n",
              "        1.0000000e+00, 0.0000000e+00, 0.0000000e+00, 1.0000000e+00,\n",
              "        2.0000000e+00, 0.0000000e+00, 1.0000000e+00],\n",
              "       [1.5689692e+07, 0.0000000e+00, 2.8580000e+01, 1.6650000e+00,\n",
              "        2.0000000e+00, 1.1000000e+01, 4.0000000e+00, 2.4150000e+00,\n",
              "        1.0000000e+00, 0.0000000e+00, 0.0000000e+00, 1.0000000e+00,\n",
              "        2.0000000e+00, 4.4000000e+02, 1.0000000e+00],\n",
              "       [1.5672357e+07, 0.0000000e+00, 3.7750000e+01, 5.5000000e+00,\n",
              "        2.0000000e+00, 1.1000000e+01, 4.0000000e+00, 1.2500000e-01,\n",
              "        1.0000000e+00, 0.0000000e+00, 0.0000000e+00, 1.0000000e+00,\n",
              "        2.0000000e+00, 2.2800000e+02, 1.0000000e+00],\n",
              "       [1.5788634e+07, 0.0000000e+00, 2.5750000e+01, 5.0000000e-01,\n",
              "        2.0000000e+00, 8.0000000e+00, 8.0000000e+00, 8.7500000e-01,\n",
              "        1.0000000e+00, 0.0000000e+00, 0.0000000e+00, 1.0000000e+00,\n",
              "        2.0000000e+00, 4.9100000e+02, 1.0000000e+00]])"
            ]
          },
          "metadata": {
            "tags": []
          },
          "execution_count": 147
        }
      ]
    },
    {
      "cell_type": "code",
      "metadata": {
        "id": "UIqqEipaTjkK",
        "colab_type": "code",
        "colab": {
          "base_uri": "https://localhost:8080/",
          "height": 339
        },
        "outputId": "bf5d452a-22c5-446b-c9da-7b5506855b40"
      },
      "source": [
        "for line in frauds:\n",
        "    print(*line)"
      ],
      "execution_count": 148,
      "outputs": [
        {
          "output_type": "stream",
          "text": [
            "15786237.0 0.0 19.17 0.585 1.0 6.0 4.0 0.585 1.0 0.0 0.0 1.0 2.0 160.0 1.0\n",
            "15590434.0 0.0 25.0 0.875 2.0 14.000000000000002 8.0 1.04 1.0 0.0 0.0 1.0 2.0 160.0 5861.0\n",
            "15767358.0 0.0 49.83 13.585 2.0 4.0 8.0 8.5 1.0 0.0 0.0 1.0 2.0 0.0 1.0\n",
            "15567839.0 0.0 28.58 3.54 2.0 3.0 5.0 0.5 1.0 0.0 0.0 1.0 2.0 171.0 1.0\n",
            "15671014.0 0.0 25.33 2.085 2.0 8.0 8.0 2.75 1.0 0.0 0.0 1.0 2.0 360.0 2.0\n",
            "15642336.0 0.0 57.08 0.335 2.0 3.0 5.0 1.0 1.0 0.0 0.0 1.0 2.0 252.0 2198.0\n",
            "15740487.0 0.0 49.0 1.5 2.0 5.0 3.0 0.0 1.0 0.0 0.0 1.0 2.0 100.0 28.0\n",
            "15593345.0 0.0 38.58 5.0 2.0 13.0 4.0 13.5 1.0 0.0 0.0 1.0 2.0 980.0 1.0\n",
            "15811742.0 0.0 36.75 5.125 2.0 9.999999999999998 4.0 5.0 1.0 0.0 0.0 1.0 2.0 0.0 4001.0\n",
            "15702571.0 0.0 22.5 11.0 1.0 11.0 4.0 3.0 1.0 0.0 0.0 1.0 2.0 268.0 1.0\n",
            "15622083.0 0.0 17.58 9.0 2.0 6.0 4.0 1.375 1.0 0.0 0.0 1.0 2.0 0.0 1.0\n",
            "15646190.0 0.0 60.58 16.5 2.0 11.0 4.0 11.0 1.0 0.0 0.0 1.0 2.0 21.0 10562.0\n",
            "15715907.0 0.0 31.57 3.5 2.0 2.0 4.0 3.0 1.0 0.0 0.0 1.0 2.0 300.0 1.0\n",
            "15768342.0 0.0 41.33 1.0 2.0 3.0 5.0 2.25 1.0 0.0 0.0 1.0 2.0 0.0 301.0\n",
            "15748532.0 0.0 38.25 6.0 2.0 4.0 4.0 1.0 1.0 0.0 0.0 1.0 2.0 0.0 1.0\n",
            "15689692.0 0.0 28.58 1.665 2.0 11.0 4.0 2.415 1.0 0.0 0.0 1.0 2.0 440.0 1.0\n",
            "15672357.0 0.0 37.75 5.5 2.0 11.0 4.0 0.125 1.0 0.0 0.0 1.0 2.0 228.0 1.0\n",
            "15788634.0 0.0 25.749999999999996 0.5 2.0 8.0 8.0 0.875 1.0 0.0 0.0 1.0 2.0 491.0 1.0\n"
          ],
          "name": "stdout"
        }
      ]
    }
  ]
}